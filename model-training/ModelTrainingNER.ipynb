{
  "nbformat": 4,
  "nbformat_minor": 0,
  "metadata": {
    "colab": {
      "provenance": [],
      "mount_file_id": "1L6zo6sp87UXSJrib6C0Mk2WQhqFaOl_F",
      "authorship_tag": "ABX9TyMSOjWTkLKjKtSFaAW3C6I7"
    },
    "kernelspec": {
      "name": "python3",
      "display_name": "Python 3"
    },
    "language_info": {
      "name": "python"
    }
  },
  "cells": [
    {
      "cell_type": "markdown",
      "source": [
        "# Installing Spacy"
      ],
      "metadata": {
        "id": "8Z1gXe9vhyWd"
      }
    },
    {
      "cell_type": "code",
      "execution_count": null,
      "metadata": {
        "id": "U_Oc409ZhXAN"
      },
      "outputs": [],
      "source": [
        "pip install spacy --upgrade"
      ]
    },
    {
      "cell_type": "code",
      "source": [
        "!python -m spacy info"
      ],
      "metadata": {
        "id": "qiDF8R2oiT0L"
      },
      "execution_count": null,
      "outputs": []
    },
    {
      "cell_type": "code",
      "source": [
        "import spacy\n",
        "from spacy.tokens import DocBin\n",
        "from tqdm import tqdm\n",
        "\n",
        "nlp = spacy.blank(\"en\")\n",
        "db = DocBin()"
      ],
      "metadata": {
        "id": "lFJmHsB6umwt"
      },
      "execution_count": 3,
      "outputs": []
    },
    {
      "cell_type": "markdown",
      "source": [
        "# Opening and Converting Training Set JSON to Docbin"
      ],
      "metadata": {
        "id": "KFt-9PeRh5EU"
      }
    },
    {
      "cell_type": "code",
      "source": [
        "import json\n",
        "\n",
        "f = open(\"training_set.json\")\n",
        "TRAINING_DATA = json.load(f)"
      ],
      "metadata": {
        "id": "L62I2nB-vQkZ"
      },
      "execution_count": 6,
      "outputs": []
    },
    {
      "cell_type": "code",
      "source": [
        "for text, annotation in tqdm(TRAINING_DATA['annotations']):\n",
        "  doc = nlp.make_doc(text)\n",
        "  entities = []\n",
        "  for start, end, label in annotation[\"entities\"]:\n",
        "    span = doc.char_span(start, end, label=label, alignment_mode=\"contract\")\n",
        "    if span is None:\n",
        "      print(\"Skipping\")\n",
        "    else:\n",
        "      entities.append(span)\n",
        "\n",
        "  doc.ents = entities\n",
        "  db.add(doc)\n",
        "\n",
        "db.to_disk(\"./training_data.spacy\")\n"
      ],
      "metadata": {
        "id": "FAGifIwDvv7a"
      },
      "execution_count": null,
      "outputs": []
    },
    {
      "cell_type": "markdown",
      "source": [
        "# Opening and Converting Validation Set JSON to Docbin"
      ],
      "metadata": {
        "id": "xSzX_cnCk0W7"
      }
    },
    {
      "cell_type": "code",
      "source": [
        "import json\n",
        "\n",
        "f = open(\"validation_set.json\")\n",
        "VALIDATION_DATA = json.load(f)"
      ],
      "metadata": {
        "id": "Ow0GAeLnkyx2"
      },
      "execution_count": 9,
      "outputs": []
    },
    {
      "cell_type": "code",
      "source": [
        "for text, annotation in tqdm(VALIDATION_DATA['annotations']):\n",
        "  doc = nlp.make_doc(text)\n",
        "  entities = []\n",
        "  for start, end, label in annotation[\"entities\"]:\n",
        "    span = doc.char_span(start, end, label=label, alignment_mode=\"contract\")\n",
        "    if span is None:\n",
        "      print(\"Skipping\")\n",
        "    else:\n",
        "      entities.append(span)\n",
        "\n",
        "  doc.ents = entities\n",
        "  db.add(doc)\n",
        "\n",
        "db.to_disk(\"./validation_data.spacy\")"
      ],
      "metadata": {
        "id": "DHWWNOHWk734"
      },
      "execution_count": null,
      "outputs": []
    },
    {
      "cell_type": "markdown",
      "source": [
        "# Setting Up Spacy Configuration"
      ],
      "metadata": {
        "id": "qsa0Sz4eiKkd"
      }
    },
    {
      "cell_type": "code",
      "source": [
        "!python -m spacy init fill-config base_config.cfg config.cfg"
      ],
      "metadata": {
        "id": "W__MF18SJr_T"
      },
      "execution_count": null,
      "outputs": []
    },
    {
      "cell_type": "code",
      "source": [
        "!python -m spacy download en_core_web_lg"
      ],
      "metadata": {
        "id": "SBLaGo7xmeb4"
      },
      "execution_count": null,
      "outputs": []
    },
    {
      "cell_type": "markdown",
      "source": [
        "# Training Model"
      ],
      "metadata": {
        "id": "3eygJHZ7iagI"
      }
    },
    {
      "cell_type": "code",
      "source": [
        "!python -m spacy train config.cfg --output ./ --paths.train ./training_data.spacy --paths.dev ./validation_data.spacy"
      ],
      "metadata": {
        "id": "pvmLwynZlY3f"
      },
      "execution_count": null,
      "outputs": []
    },
    {
      "cell_type": "markdown",
      "source": [
        "# Testing Model"
      ],
      "metadata": {
        "id": "whyKrD_Kid0O"
      }
    },
    {
      "cell_type": "code",
      "source": [
        "nlp_ner = spacy.load(\"model-best\")"
      ],
      "metadata": {
        "id": "ZyA2q9AS3slV"
      },
      "execution_count": 15,
      "outputs": []
    },
    {
      "cell_type": "code",
      "source": [
        "doc = nlp_ner(\"Microsoft job interview this monday from 1:30pm to 2:00pm\")"
      ],
      "metadata": {
        "id": "-IS8SaE33888"
      },
      "execution_count": 75,
      "outputs": []
    },
    {
      "cell_type": "code",
      "source": [
        "spacy.displacy.render(doc, style=\"ent\", jupyter=True)"
      ],
      "metadata": {
        "id": "HlnptG3-4EYA"
      },
      "execution_count": null,
      "outputs": []
    },
    {
      "cell_type": "markdown",
      "source": [],
      "metadata": {
        "id": "yLXkTzZohxYO"
      }
    }
  ]
}