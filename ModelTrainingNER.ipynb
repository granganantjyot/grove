{
  "nbformat": 4,
  "nbformat_minor": 0,
  "metadata": {
    "colab": {
      "provenance": []
    },
    "kernelspec": {
      "name": "python3",
      "display_name": "Python 3"
    },
    "language_info": {
      "name": "python"
    }
  },
  "cells": [
    {
      "cell_type": "markdown",
      "source": [
        "# Installing Spacy"
      ],
      "metadata": {
        "id": "8Z1gXe9vhyWd"
      }
    },
    {
      "cell_type": "code",
      "execution_count": null,
      "metadata": {
        "id": "U_Oc409ZhXAN"
      },
      "outputs": [],
      "source": [
        "pip install spacy --upgrade"
      ]
    },
    {
      "cell_type": "code",
      "source": [
        "!python -m spacy info"
      ],
      "metadata": {
        "id": "qiDF8R2oiT0L"
      },
      "execution_count": null,
      "outputs": []
    },
    {
      "cell_type": "code",
      "source": [
        "import spacy\n",
        "from spacy.tokens import DocBin\n",
        "from tqdm import tqdm\n",
        "\n",
        "nlp = spacy.blank(\"en\")\n",
        "db = DocBin()"
      ],
      "metadata": {
        "id": "lFJmHsB6umwt"
      },
      "execution_count": null,
      "outputs": []
    },
    {
      "cell_type": "markdown",
      "source": [
        "# Opening and Converting Training Set JSON to Docbin"
      ],
      "metadata": {
        "id": "KFt-9PeRh5EU"
      }
    },
    {
      "cell_type": "code",
      "source": [
        "import json\n",
        "\n",
        "f = open(\"training_set.json\")\n",
        "TRAINING_DATA = json.load(f)"
      ],
      "metadata": {
        "id": "L62I2nB-vQkZ"
      },
      "execution_count": null,
      "outputs": []
    },
    {
      "cell_type": "code",
      "source": [
        "for text, annotation in tqdm(TRAINING_DATA['annotations']):\n",
        "  doc = nlp.make_doc(text)\n",
        "  entities = []\n",
        "  for start, end, label in annotation[\"entities\"]:\n",
        "    span = doc.char_span(start, end, label=label, alignment_mode=\"contract\")\n",
        "    if span is None:\n",
        "      print(\"Skipping\")\n",
        "    else:\n",
        "      entities.append(span)\n",
        "\n",
        "  doc.ents = entities\n",
        "  db.add(doc)\n",
        "\n",
        "db.to_disk(\"./training_data.spacy\")\n"
      ],
      "metadata": {
        "id": "FAGifIwDvv7a"
      },
      "execution_count": null,
      "outputs": []
    },
    {
      "cell_type": "markdown",
      "source": [
        "# Opening and Converting Validation Set JSON to Docbin"
      ],
      "metadata": {
        "id": "xSzX_cnCk0W7"
      }
    },
    {
      "cell_type": "code",
      "source": [
        "import json\n",
        "\n",
        "f = open(\"validation_set.json\")\n",
        "VALIDATION_DATA = json.load(f)"
      ],
      "metadata": {
        "id": "Ow0GAeLnkyx2"
      },
      "execution_count": null,
      "outputs": []
    },
    {
      "cell_type": "code",
      "source": [
        "for text, annotation in tqdm(VALIDATION_DATA['annotations']):\n",
        "  doc = nlp.make_doc(text)\n",
        "  entities = []\n",
        "  for start, end, label in annotation[\"entities\"]:\n",
        "    span = doc.char_span(start, end, label=label, alignment_mode=\"contract\")\n",
        "    if span is None:\n",
        "      print(\"Skipping\")\n",
        "    else:\n",
        "      entities.append(span)\n",
        "\n",
        "  doc.ents = entities\n",
        "  db.add(doc)\n",
        "\n",
        "db.to_disk(\"./validation_data.spacy\")"
      ],
      "metadata": {
        "id": "DHWWNOHWk734"
      },
      "execution_count": null,
      "outputs": []
    },
    {
      "cell_type": "markdown",
      "source": [
        "# Setting Up Spacy Configuration"
      ],
      "metadata": {
        "id": "qsa0Sz4eiKkd"
      }
    },
    {
      "cell_type": "code",
      "source": [
        "!python -m spacy init fill-config base_config.cfg config.cfg"
      ],
      "metadata": {
        "id": "W__MF18SJr_T"
      },
      "execution_count": null,
      "outputs": []
    },
    {
      "cell_type": "code",
      "source": [
        "!python -m spacy download en_core_web_lg"
      ],
      "metadata": {
        "id": "SBLaGo7xmeb4"
      },
      "execution_count": null,
      "outputs": []
    },
    {
      "cell_type": "markdown",
      "source": [
        "# Training Model"
      ],
      "metadata": {
        "id": "3eygJHZ7iagI"
      }
    },
    {
      "cell_type": "code",
      "source": [
        "!python -m spacy train config.cfg --output ./ --paths.train ./training_data.spacy --paths.dev ./validation_data.spacy"
      ],
      "metadata": {
        "id": "pvmLwynZlY3f"
      },
      "execution_count": null,
      "outputs": []
    },
    {
      "cell_type": "markdown",
      "source": [
        "# Testing Model"
      ],
      "metadata": {
        "id": "whyKrD_Kid0O"
      }
    },
    {
      "cell_type": "code",
      "source": [
        "nlp_ner = spacy.load(\"model-best\")"
      ],
      "metadata": {
        "id": "ZyA2q9AS3slV"
      },
      "execution_count": null,
      "outputs": []
    },
    {
      "cell_type": "code",
      "source": [
        "doc = nlp_ner(\"Math assignment due tomorrow at 9pm\")"
      ],
      "metadata": {
        "id": "-IS8SaE33888"
      },
      "execution_count": null,
      "outputs": []
    },
    {
      "cell_type": "code",
      "source": [
        "spacy.displacy.render(doc, style=\"ent\", jupyter=True)"
      ],
      "metadata": {
        "colab": {
          "base_uri": "https://localhost:8080/",
          "height": 52
        },
        "id": "HlnptG3-4EYA",
        "outputId": "0775a764-2c92-406a-cd12-b074b0601ab2"
      },
      "execution_count": null,
      "outputs": [
        {
          "output_type": "display_data",
          "data": {
            "text/plain": [
              "<IPython.core.display.HTML object>"
            ],
            "text/html": [
              "<span class=\"tex2jax_ignore\"><div class=\"entities\" style=\"line-height: 2.5; direction: ltr\">\n",
              "<mark class=\"entity\" style=\"background: #ddd; padding: 0.45em 0.6em; margin: 0 0.25em; line-height: 1; border-radius: 0.35em;\">\n",
              "    Math assignment\n",
              "    <span style=\"font-size: 0.8em; font-weight: bold; line-height: 1; border-radius: 0.35em; vertical-align: middle; margin-left: 0.5rem\">DESCRIPTION</span>\n",
              "</mark>\n",
              " \n",
              "<mark class=\"entity\" style=\"background: #ddd; padding: 0.45em 0.6em; margin: 0 0.25em; line-height: 1; border-radius: 0.35em;\">\n",
              "    due tomorrow\n",
              "    <span style=\"font-size: 0.8em; font-weight: bold; line-height: 1; border-radius: 0.35em; vertical-align: middle; margin-left: 0.5rem\">RELATIVE</span>\n",
              "</mark>\n",
              " at \n",
              "<mark class=\"entity\" style=\"background: #bfe1d9; padding: 0.45em 0.6em; margin: 0 0.25em; line-height: 1; border-radius: 0.35em;\">\n",
              "    9pm\n",
              "    <span style=\"font-size: 0.8em; font-weight: bold; line-height: 1; border-radius: 0.35em; vertical-align: middle; margin-left: 0.5rem\">TIME</span>\n",
              "</mark>\n",
              "</div></span>"
            ]
          },
          "metadata": {}
        }
      ]
    },
    {
      "cell_type": "markdown",
      "source": [],
      "metadata": {
        "id": "yLXkTzZohxYO"
      }
    }
  ]
}